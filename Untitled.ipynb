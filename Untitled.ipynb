{
 "cells": [
  {
   "cell_type": "code",
   "execution_count": 13,
   "id": "55efa0c9",
   "metadata": {},
   "outputs": [],
   "source": [
    "def food_question(food_type):\n",
    "    if food_type == 'candy':\n",
    "        print('sour patch kids')\n",
    "    \n",
    "    if food_type == 'vegetable':\n",
    "        print('cooked broccoli')\n",
    "        \n",
    "    if food_type == 'fruit':\n",
    "        print('pomegranate')"
   ]
  },
  {
   "cell_type": "code",
   "execution_count": 4,
   "id": "fef905f3",
   "metadata": {},
   "outputs": [
    {
     "name": "stdout",
     "output_type": "stream",
     "text": [
      "sour patch kids\n"
     ]
    }
   ],
   "source": [
    "food_question('candy')"
   ]
  },
  {
   "cell_type": "code",
   "execution_count": 12,
   "id": "5b4fcf7a",
   "metadata": {},
   "outputs": [
    {
     "name": "stdout",
     "output_type": "stream",
     "text": [
      "cooked broccoli\n"
     ]
    }
   ],
   "source": [
    "food_question('vegetable')"
   ]
  },
  {
   "cell_type": "code",
   "execution_count": 14,
   "id": "2d3bffdc",
   "metadata": {},
   "outputs": [
    {
     "name": "stdout",
     "output_type": "stream",
     "text": [
      "pomegranate\n"
     ]
    }
   ],
   "source": [
    "food_question('fruit')"
   ]
  },
  {
   "cell_type": "code",
   "execution_count": 15,
   "id": "66427590",
   "metadata": {},
   "outputs": [
    {
     "name": "stdout",
     "output_type": "stream",
     "text": [
      "sour patch kids\n",
      "cooked broccoli\n",
      "pomegranate\n"
     ]
    }
   ],
   "source": [
    "food_list = ['candy','vegetable','fruit']\n",
    "for food in food_list:\n",
    "    food_question(food)\n",
    "    "
   ]
  }
 ],
 "metadata": {
  "kernelspec": {
   "display_name": "Python 3",
   "language": "python",
   "name": "python3"
  },
  "language_info": {
   "codemirror_mode": {
    "name": "ipython",
    "version": 3
   },
   "file_extension": ".py",
   "mimetype": "text/x-python",
   "name": "python",
   "nbconvert_exporter": "python",
   "pygments_lexer": "ipython3",
   "version": "3.8.8"
  }
 },
 "nbformat": 4,
 "nbformat_minor": 5
}
